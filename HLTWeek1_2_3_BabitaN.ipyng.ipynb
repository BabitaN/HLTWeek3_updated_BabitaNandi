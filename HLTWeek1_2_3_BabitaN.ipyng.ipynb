{
 "metadata": {
  "language_info": {
   "codemirror_mode": {
    "name": "ipython",
    "version": 3
   },
   "file_extension": ".py",
   "mimetype": "text/x-python",
   "name": "python",
   "nbconvert_exporter": "python",
   "pygments_lexer": "ipython3",
   "version": "3.9.2"
  },
  "orig_nbformat": 2,
  "kernelspec": {
   "name": "python392jvsc74a57bd07bbdf544da3e51cde7099b59352338958df2ebb7a70c2661d449ba3f33e5d875",
   "display_name": "Python 3.9.2 64-bit"
  },
  "metadata": {
   "interpreter": {
    "hash": "7bbdf544da3e51cde7099b59352338958df2ebb7a70c2661d449ba3f33e5d875"
   }
  }
 },
 "nbformat": 4,
 "nbformat_minor": 2,
 "cells": [
  {
   "cell_type": "code",
   "execution_count": 1,
   "metadata": {},
   "outputs": [
    {
     "output_type": "stream",
     "name": "stdout",
     "text": [
      "Hello World\n"
     ]
    }
   ],
   "source": [
    "print(\"Hello World\")\n"
   ]
  },
  {
   "cell_type": "code",
   "execution_count": 36,
   "metadata": {},
   "outputs": [
    {
     "output_type": "stream",
     "name": "stdout",
     "text": [
      "Well, Babita I am thinking of a number between 1 and 10.\n",
      "Wrong, better luck next time\n"
     ]
    }
   ],
   "source": [
    "import random\n",
    "myName=input(\"Hello! What is your name?\")\n",
    "number=random.randint(1,10)\n",
    "print(\"Well, \"+myName+\" I am thinking of a number between 1 and 10.\")\n",
    "guess=int(input(\"Take a guess:\"))\n",
    "if guess==number:\n",
    "    print(\"Good job,\"+myName+\"!You guessed my number\")\n",
    "else:\n",
    "    print(\"Wrong, better luck next time\")\n"
   ]
  },
  {
   "cell_type": "code",
   "execution_count": 69,
   "metadata": {},
   "outputs": [
    {
     "output_type": "stream",
     "name": "stdout",
     "text": [
      "Did you hear about the guy whose whole left side got amputated? He's all right now.\n"
     ]
    }
   ],
   "source": [
    "import random\n",
    "faveNumber=int(input(\"What is you favourite number between 1 and 100:?\"))\n",
    "Number1=random.randint(1,33)\n",
    "Number2=random.randint(34,63)\n",
    "if faveNumber<Number1:\n",
    "    print(\"Most people are shocked when they find out how bad I am as an electrician.\")\n",
    "elif faveNumber<Number2:\n",
    "    print(\"Did you hear about the guy whose whole left side got amputated? He's all right now.\")\n",
    "else:\n",
    "    print(\"My boss is going to fire the employee with the worst posture. I have a hunch,it might be me.\")\n"
   ]
  },
  {
   "cell_type": "code",
   "execution_count": 108,
   "metadata": {},
   "outputs": [
    {
     "output_type": "stream",
     "name": "stdout",
     "text": [
      "Your favourite meal is Carpaccio with Steak and cheesecake with a glass of wine\n"
     ]
    }
   ],
   "source": [
    "Str1=input(\"What is your favourite starter?\")\n",
    "\n",
    "Str2=input(\"What is your favourite main course?\")\n",
    "\n",
    "Str3=input(\"What is your favourite dessert?\")\n",
    "\n",
    "Str4=input(\"What is your favourite drink?\")\n",
    "\n",
    "print(\"Your favourite meal is \"+Str1+\" with \"+Str2+\" and \"+Str3+\" with a glass of \"+Str4+\"\")"
   ]
  },
  {
   "cell_type": "code",
   "execution_count": 171,
   "metadata": {},
   "outputs": [
    {
     "output_type": "stream",
     "name": "stdout",
     "text": [
      "1800.0\n1620.0\n1458.0\n1312.2\n1180.98\n1062.882\n956.5938000000001\n"
     ]
    }
   ],
   "source": [
    "var1=2000\n",
    "while  var1>999:\n",
    "    var1=var1*0.9\n",
    "    print (var1)"
   ]
  },
  {
   "cell_type": "code",
   "execution_count": 27,
   "metadata": {},
   "outputs": [
    {
     "output_type": "stream",
     "name": "stdout",
     "text": [
      "30\n"
     ]
    }
   ],
   "source": [
    "import math\n",
    "Number1=int(input(\"Give me your first number\"))\n",
    "Number2=int(input(\"Give me your second number\"))\n",
    "menu=input(\"Choose from a to add, b to subtract, c to multiply and d divide\")\n",
    "if menu=='a':\n",
    "     result=Number1+Number2\n",
    "     print(result)\n",
    "elif menu=='b':\n",
    "    result=Number1-Number2\n",
    "    print(result)\n",
    "elif menu=='c':\n",
    "    result=Number1*Number2\n",
    "    print(result)\n",
    "elif menu=='d':\n",
    "    result=Number1/Number2\n",
    "    print(result)\n",
    "else:\n",
    "    print('Enter a valid option')"
   ]
  },
  {
   "cell_type": "code",
   "execution_count": 1,
   "metadata": {},
   "outputs": [
    {
     "output_type": "stream",
     "name": "stdout",
     "text": [
      "6\n7\n8\n9\n10\n"
     ]
    }
   ],
   "source": [
    "number=int(input(\"Enter a number:\"))\n",
    "while number<10:\n",
    "    number=number+1\n",
    "    print(number)"
   ]
  },
  {
   "cell_type": "code",
   "execution_count": 2,
   "metadata": {},
   "outputs": [
    {
     "output_type": "stream",
     "name": "stdout",
     "text": [
      "Number is smaller than 10.\n"
     ]
    }
   ],
   "source": [
    "number=int(input(\"Enter a number\"))\n",
    "if number>10:\n",
    "    print(\"Number is greater than 10.\")\n",
    "else:\n",
    "    print(\"Number is smaller than 10.\")"
   ]
  },
  {
   "cell_type": "code",
   "execution_count": 3,
   "metadata": {},
   "outputs": [
    {
     "output_type": "stream",
     "name": "stdout",
     "text": [
      "['1.American Coffee,2.Cappucino,3.Tea,4.Hot Chocolate,5.No hot drink']\n",
      "Are you sure you don't want a hot drink?\n"
     ]
    }
   ],
   "source": [
    "menu=[\n",
    "    [\"1.American Coffee,2.Cappucino,3.Tea,4.Hot Chocolate,5.No hot drink\"]\n",
    "]\n",
    "print(menu[0])\n",
    "drink=input(\"Select drink option 1,2,3,4,5\")\n",
    "sugar=input(\"Sugar? Y/N\")\n",
    "if sugar=='Y'and drink=='1':\n",
    "    print(\"American Coffee \"\"with sugar\")\n",
    "elif sugar=='Y' and drink=='2':\n",
    "    print(\"Capuccino \" \"with sugar\")\n",
    "elif sugar=='Y' and drink=='3':\n",
    "    print(\"Tea \"\"with sugar\")\n",
    "elif sugar=='Y' and drink=='4':\n",
    "    print(\"Hot Chocolate \"\"with sugar\")\n",
    "elif sugar=='N' and drink=='1':\n",
    "    print(\"American Coffee\")\n",
    "elif sugar=='N' and drink=='2':\n",
    "    print(\"Cappucino\")\n",
    "elif sugar=='N' and drink=='3':\n",
    "    print(\"Tea\")\n",
    "elif sugar=='N' and drink=='4':\n",
    "    print(\"Hot Chocolate\")\n",
    "else:\n",
    "    print(\"Are you sure you don't want a hot drink?\")"
   ]
  },
  {
   "cell_type": "code",
   "execution_count": 5,
   "metadata": {},
   "outputs": [],
   "source": [
    "def my_function1(x):\n",
    "        return x*0.9"
   ]
  },
  {
   "cell_type": "code",
   "execution_count": 6,
   "metadata": {},
   "outputs": [
    {
     "output_type": "stream",
     "name": "stdout",
     "text": [
      "1800.0\n"
     ]
    }
   ],
   "source": [
    "print(my_function1(2000))"
   ]
  },
  {
   "cell_type": "code",
   "execution_count": 3,
   "metadata": {},
   "outputs": [
    {
     "output_type": "stream",
     "name": "stdout",
     "text": [
      "Select operation.\n",
      "1.Add\n",
      "2.Subtract\n",
      "3.Multiply\n",
      "4.Divide\n",
      "34.0 / 4.0 = 8.5\n"
     ]
    }
   ],
   "source": [
    "def add(x,y):\n",
    "    return x+y\n",
    "def subtract(x,y):\n",
    "    return x-y\n",
    "def multiply(x,y):\n",
    "    return x*y\n",
    "def divide(x,y):\n",
    "    return x/y\n",
    "print(\"Select operation.\")\n",
    "print(\"1.Add\")\n",
    "print(\"2.Subtract\")\n",
    "print(\"3.Multiply\")\n",
    "print(\"4.Divide\")\n",
    "while True:\n",
    "    choice=input(\"Enter choice 1,2,3,4):\")\n",
    "    num1 = float(input(\"Enter first number:\"))\n",
    "    num2 = float(input(\"Enter second number:\"))\n",
    "    if choice=='1':\n",
    "        print(num1,\"+\",num2, \"=\",add(num1,num2))\n",
    "    elif choice=='2':\n",
    "        print(num1,\"-\",num2,\"=\",subtract(num1, num2))\n",
    "    elif choice=='3':\n",
    "        print(num1, \"*\",num2, \"=\",multiply(num1, num2))\n",
    "    elif choice=='4':\n",
    "        print(num1, \"/\",num2,\"=\",divide(num1, num2))\n",
    "        break\n",
    "    else:\n",
    "        print(\"Invalid Input\")\n",
    "        break"
   ]
  },
  {
   "cell_type": "code",
   "execution_count": 22,
   "metadata": {},
   "outputs": [],
   "source": [
    "my_file=open(\"Numbers.txt\",\"w\")\n",
    "my_file.write(\"3\\n45\\n83\\n21\\n\")\n",
    "my_file.close()"
   ]
  },
  {
   "cell_type": "code",
   "execution_count": 23,
   "metadata": {},
   "outputs": [
    {
     "output_type": "stream",
     "name": "stdout",
     "text": [
      "3\n45\n83\n21\n\n"
     ]
    }
   ],
   "source": [
    "my_file=open(\"Numbers.txt\",\"r\")\n",
    "data=my_file.read()\n",
    "print(data)\n",
    "my_file.close()"
   ]
  },
  {
   "cell_type": "code",
   "execution_count": 24,
   "metadata": {},
   "outputs": [],
   "source": [
    "my_file=open(\"Numbers.txt\",\"a\")\n",
    "my_file.write(\"55\")\n",
    "my_file.close()\n"
   ]
  },
  {
   "cell_type": "code",
   "execution_count": 25,
   "metadata": {},
   "outputs": [
    {
     "output_type": "stream",
     "name": "stdout",
     "text": [
      "3\n45\n83\n21\n55\n"
     ]
    }
   ],
   "source": [
    "my_file=open(\"Numbers.txt\",\"r\")\n",
    "data=my_file.read()\n",
    "print(data)\n",
    "my_file.close()"
   ]
  },
  {
   "cell_type": "code",
   "execution_count": 14,
   "metadata": {},
   "outputs": [],
   "source": [
    "def mark_grade(x):\n",
    "        if 35<x<40:\n",
    "            print(\"Grade E achieved\")\n",
    "        elif 50>x>=40:\n",
    "            print(\"Grade D achieved\")\n",
    "        elif 60>x>=50:\n",
    "            print(\"Grade C achieved\")\n",
    "        elif 70>x>=60:\n",
    "            print(\"Grade B achieved\")\n",
    "        elif 80>x>=70:\n",
    "            print(\"Grade A achieved\")\n",
    "        elif x>=80:\n",
    "            print(\"Grade A+ achieved\")\n",
    "        else:\n",
    "            print(\"Fail\")\n"
   ]
  },
  {
   "cell_type": "code",
   "execution_count": 15,
   "metadata": {},
   "outputs": [
    {
     "output_type": "stream",
     "name": "stdout",
     "text": [
      "Grade A achieved\n"
     ]
    }
   ],
   "source": [
    "mark_grade(78)"
   ]
  },
  {
   "cell_type": "code",
   "execution_count": 19,
   "metadata": {},
   "outputs": [
    {
     "output_type": "stream",
     "name": "stdout",
     "text": [
      "You achieved grade B and want to get to grade A standard. Keep at it, practice makes perfect!\n"
     ]
    }
   ],
   "source": [
    "target_grade=input(\"What is target grade?\")\n",
    "mark_grade=input(\"What grade did you achieve?\")\n",
    "if target_grade<mark_grade:\n",
    "    print(\"You achieved grade \"+mark_grade+\" and want to get to grade \" +target_grade+\" standard. Keep at it, practice makes perfect!\")\n",
    "elif target_grade==mark_grade:\n",
    "    print(\"Well done, you achieved grade \"+mark_grade+\" and want to get to grade \"+target_grade+\" standard. You are on the right track!\")\n",
    "else:\n",
    "    print(\"Well done, you achieved grade \"+mark_grade+\" and want to get to grade \"+target_grade+\" standard. You are doing better than you think!\")\n"
   ]
  },
  {
   "cell_type": "code",
   "execution_count": null,
   "metadata": {},
   "outputs": [],
   "source": []
  }
 ]
}